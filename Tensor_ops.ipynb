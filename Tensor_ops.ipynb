{
  "nbformat": 4,
  "nbformat_minor": 0,
  "metadata": {
    "colab": {
      "name": "Tensor Belajar.ipynb",
      "provenance": [],
      "collapsed_sections": [],
      "authorship_tag": "ABX9TyNsMSAe2hQfVE4Jo1w8NRX3",
      "include_colab_link": true
    },
    "kernelspec": {
      "name": "python3",
      "display_name": "Python 3"
    }
  },
  "cells": [
    {
      "cell_type": "markdown",
      "metadata": {
        "id": "view-in-github",
        "colab_type": "text"
      },
      "source": [
        "<a href=\"https://colab.research.google.com/github/zidniryi/ML_python/blob/main/Tensor_ops.ipynb\" target=\"_parent\"><img src=\"https://colab.research.google.com/assets/colab-badge.svg\" alt=\"Open In Colab\"/></a>"
      ]
    },
    {
      "cell_type": "code",
      "metadata": {
        "id": "F5b0xfZpzMQF"
      },
      "source": [
        "import tensorflow as tf\n",
        "import numpy as np"
      ],
      "execution_count": 4,
      "outputs": []
    },
    {
      "cell_type": "markdown",
      "metadata": {
        "id": "CH_pNr7Kz9Mq"
      },
      "source": [
        "Scalar Tensor"
      ]
    },
    {
      "cell_type": "code",
      "metadata": {
        "id": "qPaEXNVGzblA"
      },
      "source": [
        "rank_0_tensor = tf.constant(11)"
      ],
      "execution_count": 12,
      "outputs": []
    },
    {
      "cell_type": "code",
      "metadata": {
        "colab": {
          "base_uri": "https://localhost:8080/"
        },
        "id": "3AWTXpmEzlaX",
        "outputId": "a87a5b13-0e95-467c-9cec-062dc86cd88f"
      },
      "source": [
        "print(rank_0_tensor)"
      ],
      "execution_count": 13,
      "outputs": [
        {
          "output_type": "stream",
          "text": [
            "tf.Tensor(11, shape=(), dtype=int32)\n"
          ],
          "name": "stdout"
        }
      ]
    },
    {
      "cell_type": "markdown",
      "metadata": {
        "id": "64eZ97LA0Dxn"
      },
      "source": [
        "Vector = Array"
      ]
    },
    {
      "cell_type": "code",
      "metadata": {
        "id": "a4YfqmPw0H9R"
      },
      "source": [
        "rank_1_tensor = tf.constant([11,22,44,11])"
      ],
      "execution_count": 14,
      "outputs": []
    },
    {
      "cell_type": "code",
      "metadata": {
        "colab": {
          "base_uri": "https://localhost:8080/"
        },
        "id": "RCpjkzb20RTA",
        "outputId": "53d0e302-588b-416b-ff98-fb80cc552561"
      },
      "source": [
        "print(rank_1_tensor)"
      ],
      "execution_count": 16,
      "outputs": [
        {
          "output_type": "stream",
          "text": [
            "tf.Tensor([11 22 44 11], shape=(4,), dtype=int32)\n"
          ],
          "name": "stdout"
        }
      ]
    },
    {
      "cell_type": "markdown",
      "metadata": {
        "id": "TsQ4apNw0vUC"
      },
      "source": [
        "Matrix"
      ]
    },
    {
      "cell_type": "code",
      "metadata": {
        "colab": {
          "base_uri": "https://localhost:8080/"
        },
        "id": "sMwLRZ2H0-LM",
        "outputId": "97f41b36-6062-43aa-cf28-4b753b37e9b2"
      },
      "source": [
        "# If you want to be specific, you can set the dtype (see below) at creation time\n",
        "rank_2_tensor = tf.constant([[1, 2],\n",
        "                             [3, 4],\n",
        "                             [5, 6]], dtype=tf.float16)\n",
        "print(rank_2_tensor)\n"
      ],
      "execution_count": 23,
      "outputs": [
        {
          "output_type": "stream",
          "text": [
            "tf.Tensor(\n",
            "[[1. 2.]\n",
            " [3. 4.]\n",
            " [5. 6.]], shape=(3, 2), dtype=float16)\n"
          ],
          "name": "stdout"
        }
      ]
    },
    {
      "cell_type": "code",
      "metadata": {
        "id": "LSJyRHb11QZV"
      },
      "source": [
        "rank_2s_tensor = tf.constant([[2, 2],\n",
        "                             [8, 4],\n",
        "                             [5, 6]], dtype=tf.float16)\n"
      ],
      "execution_count": 24,
      "outputs": []
    },
    {
      "cell_type": "code",
      "metadata": {
        "colab": {
          "base_uri": "https://localhost:8080/"
        },
        "id": "RQsAPpHq13R8",
        "outputId": "f1106276-9606-43b8-b73d-ee79c0a86d30"
      },
      "source": [
        "rank_matrix_sum = rank_2_tensor + rank_2s_tensor\n",
        "print(rank_matrix_sum)"
      ],
      "execution_count": 25,
      "outputs": [
        {
          "output_type": "stream",
          "text": [
            "tf.Tensor(\n",
            "[[ 3.  4.]\n",
            " [11.  8.]\n",
            " [10. 12.]], shape=(3, 2), dtype=float16)\n"
          ],
          "name": "stdout"
        }
      ]
    },
    {
      "cell_type": "markdown",
      "metadata": {
        "id": "3nZn408T3E8s"
      },
      "source": [
        "3 Tensor"
      ]
    },
    {
      "cell_type": "code",
      "metadata": {
        "id": "_XWxrF4e3Iz3"
      },
      "source": [
        "rank_3_tensor = tf.constant([[[11,111,1000], [22,222,2000]],\n",
        "                            [[33,333,3000], [44,444,4000]],\n",
        "                            [[55,555,5000], [66,666,6000]]\n",
        "                             ])"
      ],
      "execution_count": 26,
      "outputs": []
    },
    {
      "cell_type": "code",
      "metadata": {
        "colab": {
          "base_uri": "https://localhost:8080/"
        },
        "id": "PTTuGNe84PmR",
        "outputId": "94165805-0686-43e3-bfca-e71f7db29fcd"
      },
      "source": [
        "print(rank_3_tensor)"
      ],
      "execution_count": 27,
      "outputs": [
        {
          "output_type": "stream",
          "text": [
            "tf.Tensor(\n",
            "[[[  11  111 1000]\n",
            "  [  22  222 2000]]\n",
            "\n",
            " [[  33  333 3000]\n",
            "  [  44  444 4000]]\n",
            "\n",
            " [[  55  555 5000]\n",
            "  [  66  666 6000]]], shape=(3, 2, 3), dtype=int32)\n"
          ],
          "name": "stdout"
        }
      ]
    },
    {
      "cell_type": "markdown",
      "metadata": {
        "id": "gAFalrde4ecN"
      },
      "source": [
        "Konversi ke Numpy"
      ]
    },
    {
      "cell_type": "code",
      "metadata": {
        "colab": {
          "base_uri": "https://localhost:8080/"
        },
        "id": "w3ESFw3I5aRm",
        "outputId": "a728ed6a-6dfc-4ba3-a1a9-2e41c5ea40cb"
      },
      "source": [
        "np.array(rank_0_tensor)"
      ],
      "execution_count": 28,
      "outputs": [
        {
          "output_type": "execute_result",
          "data": {
            "text/plain": [
              "array(11, dtype=int32)"
            ]
          },
          "metadata": {
            "tags": []
          },
          "execution_count": 28
        }
      ]
    },
    {
      "cell_type": "code",
      "metadata": {
        "colab": {
          "base_uri": "https://localhost:8080/"
        },
        "id": "BlI5GIOl5nwq",
        "outputId": "d0bcf828-9575-4893-f711-cac99341e45a"
      },
      "source": [
        "np.array(rank_1_tensor)"
      ],
      "execution_count": 29,
      "outputs": [
        {
          "output_type": "execute_result",
          "data": {
            "text/plain": [
              "array([11, 22, 44, 11], dtype=int32)"
            ]
          },
          "metadata": {
            "tags": []
          },
          "execution_count": 29
        }
      ]
    },
    {
      "cell_type": "code",
      "metadata": {
        "colab": {
          "base_uri": "https://localhost:8080/"
        },
        "id": "2wwDDTsO5tMV",
        "outputId": "351b83f7-821a-42ea-a0e4-2b358ea10bcc"
      },
      "source": [
        "np.array(rank_2_tensor)"
      ],
      "execution_count": 30,
      "outputs": [
        {
          "output_type": "execute_result",
          "data": {
            "text/plain": [
              "array([[1., 2.],\n",
              "       [3., 4.],\n",
              "       [5., 6.]], dtype=float16)"
            ]
          },
          "metadata": {
            "tags": []
          },
          "execution_count": 30
        }
      ]
    },
    {
      "cell_type": "code",
      "metadata": {
        "colab": {
          "base_uri": "https://localhost:8080/"
        },
        "id": "_PxsFxhQ50o-",
        "outputId": "7a025185-1336-48ab-e375-4e8050aebc17"
      },
      "source": [
        "np.array(rank_3_tensor)"
      ],
      "execution_count": 31,
      "outputs": [
        {
          "output_type": "execute_result",
          "data": {
            "text/plain": [
              "array([[[  11,  111, 1000],\n",
              "        [  22,  222, 2000]],\n",
              "\n",
              "       [[  33,  333, 3000],\n",
              "        [  44,  444, 4000]],\n",
              "\n",
              "       [[  55,  555, 5000],\n",
              "        [  66,  666, 6000]]], dtype=int32)"
            ]
          },
          "metadata": {
            "tags": []
          },
          "execution_count": 31
        }
      ]
    },
    {
      "cell_type": "markdown",
      "metadata": {
        "id": "WVjwaPcP6JlP"
      },
      "source": [
        "Tensor Flow Operation"
      ]
    },
    {
      "cell_type": "code",
      "metadata": {
        "colab": {
          "base_uri": "https://localhost:8080/"
        },
        "id": "3693oc1J6LLX",
        "outputId": "22eb1b4f-07ca-421f-98f2-1d238f2c547a"
      },
      "source": [
        "a = tf.constant([[1, 2],\n",
        "                 [3, 4]])\n",
        "b = tf.constant([[1, 1],\n",
        "                 [1, 1]]) # Could have also said `tf.ones([2,2])`\n",
        "\n",
        "print(tf.add(a, b), \"\\n\")\n",
        "print(tf.multiply(a, b), \"\\n\")\n",
        "print(tf.matmul(a, b), \"\\n\")\n"
      ],
      "execution_count": 32,
      "outputs": [
        {
          "output_type": "stream",
          "text": [
            "tf.Tensor(\n",
            "[[2 3]\n",
            " [4 5]], shape=(2, 2), dtype=int32) \n",
            "\n",
            "tf.Tensor(\n",
            "[[1 2]\n",
            " [3 4]], shape=(2, 2), dtype=int32) \n",
            "\n",
            "tf.Tensor(\n",
            "[[3 3]\n",
            " [7 7]], shape=(2, 2), dtype=int32) \n",
            "\n"
          ],
          "name": "stdout"
        }
      ]
    },
    {
      "cell_type": "markdown",
      "metadata": {
        "id": "OMO1ihMD6W-f"
      },
      "source": [
        "You can use math operation"
      ]
    },
    {
      "cell_type": "code",
      "metadata": {
        "colab": {
          "base_uri": "https://localhost:8080/"
        },
        "id": "fDrqqqP66Sgp",
        "outputId": "eb3a3aad-d21c-477b-e664-bc60ee4ba682"
      },
      "source": [
        "print(a + b, \"\\n\") # element-wise addition\n",
        "print(a * b, \"\\n\") # element-wise multiplication\n",
        "print(a @ b, \"\\n\") # matrix multiplication\n",
        "print(a / b, \"\\n\") # matrix multiplication\n"
      ],
      "execution_count": 35,
      "outputs": [
        {
          "output_type": "stream",
          "text": [
            "tf.Tensor(\n",
            "[[2 3]\n",
            " [4 5]], shape=(2, 2), dtype=int32) \n",
            "\n",
            "tf.Tensor(\n",
            "[[1 2]\n",
            " [3 4]], shape=(2, 2), dtype=int32) \n",
            "\n",
            "tf.Tensor(\n",
            "[[3 3]\n",
            " [7 7]], shape=(2, 2), dtype=int32) \n",
            "\n",
            "tf.Tensor(\n",
            "[[1. 2.]\n",
            " [3. 4.]], shape=(2, 2), dtype=float64) \n",
            "\n"
          ],
          "name": "stdout"
        }
      ]
    },
    {
      "cell_type": "markdown",
      "metadata": {
        "id": "HL2b3V446sYX"
      },
      "source": [
        "Operation like max etc"
      ]
    },
    {
      "cell_type": "code",
      "metadata": {
        "colab": {
          "base_uri": "https://localhost:8080/"
        },
        "id": "vTXeSPqO6uuH",
        "outputId": "985bdd2f-b182-42e6-caee-14dfc35ff812"
      },
      "source": [
        "c = tf.constant([[4.0, 5.0], [10.0, 1.0]])\n",
        "\n",
        "# Find the largest value\n",
        "print(tf.reduce_max(c))\n",
        "# Find the index of the largest value\n",
        "print(tf.argmax(c))\n",
        "# Compute the softmax\n",
        "print(tf.nn.softmax(c))\n",
        "# Numpy Convert soo nice\n",
        "print(tf.cos(c).numpy())\n"
      ],
      "execution_count": 37,
      "outputs": [
        {
          "output_type": "stream",
          "text": [
            "tf.Tensor(10.0, shape=(), dtype=float32)\n",
            "tf.Tensor([1 0], shape=(2,), dtype=int64)\n",
            "tf.Tensor(\n",
            "[[2.6894143e-01 7.3105860e-01]\n",
            " [9.9987662e-01 1.2339458e-04]], shape=(2, 2), dtype=float32)\n",
            "[[-0.6536436  0.2836622]\n",
            " [-0.8390715  0.5403023]]\n"
          ],
          "name": "stdout"
        }
      ]
    }
  ]
}