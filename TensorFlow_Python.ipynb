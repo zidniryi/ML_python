{
  "nbformat": 4,
  "nbformat_minor": 0,
  "metadata": {
    "colab": {
      "name": "Tensor Belajar.ipynb",
      "provenance": [],
      "authorship_tag": "ABX9TyMTpTcMpineezNV++w0JVKG",
      "include_colab_link": true
    },
    "kernelspec": {
      "name": "python3",
      "display_name": "Python 3"
    }
  },
  "cells": [
    {
      "cell_type": "markdown",
      "metadata": {
        "id": "view-in-github",
        "colab_type": "text"
      },
      "source": [
        "<a href=\"https://colab.research.google.com/github/zidniryi/ML_python/blob/main/TensorFlow_Python.ipynb\" target=\"_parent\"><img src=\"https://colab.research.google.com/assets/colab-badge.svg\" alt=\"Open In Colab\"/></a>"
      ]
    },
    {
      "cell_type": "code",
      "metadata": {
        "id": "F5b0xfZpzMQF"
      },
      "source": [
        "import tensorflow as tf\n",
        "import numpy as np"
      ],
      "execution_count": 4,
      "outputs": []
    },
    {
      "cell_type": "markdown",
      "metadata": {
        "id": "CH_pNr7Kz9Mq"
      },
      "source": [
        "Scalar Tensor"
      ]
    },
    {
      "cell_type": "code",
      "metadata": {
        "id": "qPaEXNVGzblA"
      },
      "source": [
        "rank_0_tensor = tf.constant(11)"
      ],
      "execution_count": 12,
      "outputs": []
    },
    {
      "cell_type": "code",
      "metadata": {
        "colab": {
          "base_uri": "https://localhost:8080/"
        },
        "id": "3AWTXpmEzlaX",
        "outputId": "a87a5b13-0e95-467c-9cec-062dc86cd88f"
      },
      "source": [
        "print(rank_0_tensor)"
      ],
      "execution_count": 13,
      "outputs": [
        {
          "output_type": "stream",
          "text": [
            "tf.Tensor(11, shape=(), dtype=int32)\n"
          ],
          "name": "stdout"
        }
      ]
    },
    {
      "cell_type": "markdown",
      "metadata": {
        "id": "64eZ97LA0Dxn"
      },
      "source": [
        "Vector = Array"
      ]
    },
    {
      "cell_type": "code",
      "metadata": {
        "id": "a4YfqmPw0H9R"
      },
      "source": [
        "rank_1_tensor = tf.constant([11,22,44,11])"
      ],
      "execution_count": 14,
      "outputs": []
    },
    {
      "cell_type": "code",
      "metadata": {
        "colab": {
          "base_uri": "https://localhost:8080/"
        },
        "id": "RCpjkzb20RTA",
        "outputId": "53d0e302-588b-416b-ff98-fb80cc552561"
      },
      "source": [
        "print(rank_1_tensor)"
      ],
      "execution_count": 16,
      "outputs": [
        {
          "output_type": "stream",
          "text": [
            "tf.Tensor([11 22 44 11], shape=(4,), dtype=int32)\n"
          ],
          "name": "stdout"
        }
      ]
    },
    {
      "cell_type": "markdown",
      "metadata": {
        "id": "TsQ4apNw0vUC"
      },
      "source": [
        "Matrix"
      ]
    },
    {
      "cell_type": "code",
      "metadata": {
        "colab": {
          "base_uri": "https://localhost:8080/"
        },
        "id": "sMwLRZ2H0-LM",
        "outputId": "97f41b36-6062-43aa-cf28-4b753b37e9b2"
      },
      "source": [
        "# If you want to be specific, you can set the dtype (see below) at creation time\n",
        "rank_2_tensor = tf.constant([[1, 2],\n",
        "                             [3, 4],\n",
        "                             [5, 6]], dtype=tf.float16)\n",
        "print(rank_2_tensor)\n"
      ],
      "execution_count": 23,
      "outputs": [
        {
          "output_type": "stream",
          "text": [
            "tf.Tensor(\n",
            "[[1. 2.]\n",
            " [3. 4.]\n",
            " [5. 6.]], shape=(3, 2), dtype=float16)\n"
          ],
          "name": "stdout"
        }
      ]
    },
    {
      "cell_type": "code",
      "metadata": {
        "id": "LSJyRHb11QZV"
      },
      "source": [
        "rank_2s_tensor = tf.constant([[2, 2],\n",
        "                             [8, 4],\n",
        "                             [5, 6]], dtype=tf.float16)\n"
      ],
      "execution_count": 24,
      "outputs": []
    },
    {
      "cell_type": "code",
      "metadata": {
        "colab": {
          "base_uri": "https://localhost:8080/"
        },
        "id": "RQsAPpHq13R8",
        "outputId": "f1106276-9606-43b8-b73d-ee79c0a86d30"
      },
      "source": [
        "rank_matrix_sum = rank_2_tensor + rank_2s_tensor\n",
        "print(rank_matrix_sum)"
      ],
      "execution_count": 25,
      "outputs": [
        {
          "output_type": "stream",
          "text": [
            "tf.Tensor(\n",
            "[[ 3.  4.]\n",
            " [11.  8.]\n",
            " [10. 12.]], shape=(3, 2), dtype=float16)\n"
          ],
          "name": "stdout"
        }
      ]
    }
  ]
}